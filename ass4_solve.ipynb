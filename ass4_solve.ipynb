{
 "cells": [
  {
   "cell_type": "code",
   "execution_count": 1,
   "metadata": {},
   "outputs": [],
   "source": [
    "import pandas as pd\n",
    "import numpy as np\n",
    "import seaborn as sns"
   ]
  },
  {
   "cell_type": "code",
   "execution_count": 2,
   "metadata": {},
   "outputs": [
    {
     "data": {
      "text/html": [
       "<div>\n",
       "<style scoped>\n",
       "    .dataframe tbody tr th:only-of-type {\n",
       "        vertical-align: middle;\n",
       "    }\n",
       "\n",
       "    .dataframe tbody tr th {\n",
       "        vertical-align: top;\n",
       "    }\n",
       "\n",
       "    .dataframe thead th {\n",
       "        text-align: right;\n",
       "    }\n",
       "</style>\n",
       "<table border=\"1\" class=\"dataframe\">\n",
       "  <thead>\n",
       "    <tr style=\"text-align: right;\">\n",
       "      <th></th>\n",
       "      <th>CarID</th>\n",
       "      <th>ManHI</th>\n",
       "      <th>ManBI</th>\n",
       "      <th>IntI</th>\n",
       "      <th>HVACi</th>\n",
       "      <th>Safety</th>\n",
       "      <th>CarType</th>\n",
       "    </tr>\n",
       "  </thead>\n",
       "  <tbody>\n",
       "    <tr>\n",
       "      <th>0</th>\n",
       "      <td>1</td>\n",
       "      <td>-5.27</td>\n",
       "      <td>-1.30</td>\n",
       "      <td>2.86</td>\n",
       "      <td>-4.85</td>\n",
       "      <td>4.04</td>\n",
       "      <td>SUV</td>\n",
       "    </tr>\n",
       "    <tr>\n",
       "      <th>1</th>\n",
       "      <td>2</td>\n",
       "      <td>-4.82</td>\n",
       "      <td>-5.38</td>\n",
       "      <td>9.72</td>\n",
       "      <td>-0.97</td>\n",
       "      <td>-4.57</td>\n",
       "      <td>Hatchback</td>\n",
       "    </tr>\n",
       "    <tr>\n",
       "      <th>2</th>\n",
       "      <td>3</td>\n",
       "      <td>9.57</td>\n",
       "      <td>-7.50</td>\n",
       "      <td>-7.61</td>\n",
       "      <td>1.33</td>\n",
       "      <td>-5.10</td>\n",
       "      <td>Hatchback</td>\n",
       "    </tr>\n",
       "    <tr>\n",
       "      <th>3</th>\n",
       "      <td>4</td>\n",
       "      <td>2.84</td>\n",
       "      <td>-2.85</td>\n",
       "      <td>0.92</td>\n",
       "      <td>5.51</td>\n",
       "      <td>-6.64</td>\n",
       "      <td>Hatchback</td>\n",
       "    </tr>\n",
       "    <tr>\n",
       "      <th>4</th>\n",
       "      <td>5</td>\n",
       "      <td>0.00</td>\n",
       "      <td>2.68</td>\n",
       "      <td>-4.15</td>\n",
       "      <td>0.85</td>\n",
       "      <td>5.58</td>\n",
       "      <td>SUV</td>\n",
       "    </tr>\n",
       "  </tbody>\n",
       "</table>\n",
       "</div>"
      ],
      "text/plain": [
       "   CarID  ManHI  ManBI  IntI  HVACi  Safety    CarType\n",
       "0      1  -5.27  -1.30  2.86  -4.85    4.04        SUV\n",
       "1      2  -4.82  -5.38  9.72  -0.97   -4.57  Hatchback\n",
       "2      3   9.57  -7.50 -7.61   1.33   -5.10  Hatchback\n",
       "3      4   2.84  -2.85  0.92   5.51   -6.64  Hatchback\n",
       "4      5   0.00   2.68 -4.15   0.85    5.58        SUV"
      ]
     },
     "execution_count": 2,
     "metadata": {},
     "output_type": "execute_result"
    }
   ],
   "source": [
    "crash_df = pd.read_csv('CrashTest_TrainData.csv')\n",
    "crash_df.head()"
   ]
  },
  {
   "cell_type": "code",
   "execution_count": 3,
   "metadata": {},
   "outputs": [
    {
     "data": {
      "text/html": [
       "<div>\n",
       "<style scoped>\n",
       "    .dataframe tbody tr th:only-of-type {\n",
       "        vertical-align: middle;\n",
       "    }\n",
       "\n",
       "    .dataframe tbody tr th {\n",
       "        vertical-align: top;\n",
       "    }\n",
       "\n",
       "    .dataframe thead th {\n",
       "        text-align: right;\n",
       "    }\n",
       "</style>\n",
       "<table border=\"1\" class=\"dataframe\">\n",
       "  <thead>\n",
       "    <tr style=\"text-align: right;\">\n",
       "      <th></th>\n",
       "      <th>CarID</th>\n",
       "      <th>ManHI</th>\n",
       "      <th>ManBI</th>\n",
       "      <th>IntI</th>\n",
       "      <th>HVACi</th>\n",
       "      <th>Safety</th>\n",
       "      <th>CarType</th>\n",
       "    </tr>\n",
       "  </thead>\n",
       "  <tbody>\n",
       "    <tr>\n",
       "      <th>0</th>\n",
       "      <td>1</td>\n",
       "      <td>-5.27</td>\n",
       "      <td>-1.30</td>\n",
       "      <td>2.86</td>\n",
       "      <td>-4.85</td>\n",
       "      <td>4.04</td>\n",
       "      <td>SUV</td>\n",
       "    </tr>\n",
       "    <tr>\n",
       "      <th>1</th>\n",
       "      <td>2</td>\n",
       "      <td>-4.82</td>\n",
       "      <td>-5.38</td>\n",
       "      <td>9.72</td>\n",
       "      <td>-0.97</td>\n",
       "      <td>-4.57</td>\n",
       "      <td>Hatchback</td>\n",
       "    </tr>\n",
       "    <tr>\n",
       "      <th>2</th>\n",
       "      <td>3</td>\n",
       "      <td>9.57</td>\n",
       "      <td>-7.50</td>\n",
       "      <td>-7.61</td>\n",
       "      <td>1.33</td>\n",
       "      <td>-5.10</td>\n",
       "      <td>Hatchback</td>\n",
       "    </tr>\n",
       "    <tr>\n",
       "      <th>3</th>\n",
       "      <td>4</td>\n",
       "      <td>2.84</td>\n",
       "      <td>-2.85</td>\n",
       "      <td>0.92</td>\n",
       "      <td>5.51</td>\n",
       "      <td>-6.64</td>\n",
       "      <td>Hatchback</td>\n",
       "    </tr>\n",
       "    <tr>\n",
       "      <th>4</th>\n",
       "      <td>5</td>\n",
       "      <td>0.00</td>\n",
       "      <td>2.68</td>\n",
       "      <td>-4.15</td>\n",
       "      <td>0.85</td>\n",
       "      <td>5.58</td>\n",
       "      <td>SUV</td>\n",
       "    </tr>\n",
       "  </tbody>\n",
       "</table>\n",
       "</div>"
      ],
      "text/plain": [
       "   CarID  ManHI  ManBI  IntI  HVACi  Safety    CarType\n",
       "0      1  -5.27  -1.30  2.86  -4.85    4.04        SUV\n",
       "1      2  -4.82  -5.38  9.72  -0.97   -4.57  Hatchback\n",
       "2      3   9.57  -7.50 -7.61   1.33   -5.10  Hatchback\n",
       "3      4   2.84  -2.85  0.92   5.51   -6.64  Hatchback\n",
       "4      5   0.00   2.68 -4.15   0.85    5.58        SUV"
      ]
     },
     "execution_count": 3,
     "metadata": {},
     "output_type": "execute_result"
    }
   ],
   "source": [
    "crash_df_test = pd.read_csv('CrashTest_TestData.csv')\n",
    "crash_df.head()"
   ]
  },
  {
   "cell_type": "code",
   "execution_count": 4,
   "metadata": {},
   "outputs": [
    {
     "data": {
      "text/html": [
       "<div>\n",
       "<style scoped>\n",
       "    .dataframe tbody tr th:only-of-type {\n",
       "        vertical-align: middle;\n",
       "    }\n",
       "\n",
       "    .dataframe tbody tr th {\n",
       "        vertical-align: top;\n",
       "    }\n",
       "\n",
       "    .dataframe thead th {\n",
       "        text-align: right;\n",
       "    }\n",
       "</style>\n",
       "<table border=\"1\" class=\"dataframe\">\n",
       "  <thead>\n",
       "    <tr style=\"text-align: right;\">\n",
       "      <th></th>\n",
       "      <th>CarID</th>\n",
       "      <th>ManHI</th>\n",
       "      <th>ManBI</th>\n",
       "      <th>IntI</th>\n",
       "      <th>HVACi</th>\n",
       "      <th>Safety</th>\n",
       "    </tr>\n",
       "  </thead>\n",
       "  <tbody>\n",
       "    <tr>\n",
       "      <th>count</th>\n",
       "      <td>80.0000</td>\n",
       "      <td>80.000000</td>\n",
       "      <td>80.000000</td>\n",
       "      <td>77.000000</td>\n",
       "      <td>80.000000</td>\n",
       "      <td>80.00000</td>\n",
       "    </tr>\n",
       "    <tr>\n",
       "      <th>mean</th>\n",
       "      <td>40.5000</td>\n",
       "      <td>-0.093500</td>\n",
       "      <td>-0.927750</td>\n",
       "      <td>-0.346623</td>\n",
       "      <td>0.119750</td>\n",
       "      <td>0.54375</td>\n",
       "    </tr>\n",
       "    <tr>\n",
       "      <th>std</th>\n",
       "      <td>23.2379</td>\n",
       "      <td>5.802878</td>\n",
       "      <td>5.600224</td>\n",
       "      <td>5.806723</td>\n",
       "      <td>5.813306</td>\n",
       "      <td>5.79723</td>\n",
       "    </tr>\n",
       "    <tr>\n",
       "      <th>min</th>\n",
       "      <td>1.0000</td>\n",
       "      <td>-9.930000</td>\n",
       "      <td>-9.940000</td>\n",
       "      <td>-9.990000</td>\n",
       "      <td>-9.820000</td>\n",
       "      <td>-9.80000</td>\n",
       "    </tr>\n",
       "    <tr>\n",
       "      <th>25%</th>\n",
       "      <td>20.7500</td>\n",
       "      <td>-5.195000</td>\n",
       "      <td>-5.705000</td>\n",
       "      <td>-5.940000</td>\n",
       "      <td>-5.675000</td>\n",
       "      <td>-4.67750</td>\n",
       "    </tr>\n",
       "    <tr>\n",
       "      <th>50%</th>\n",
       "      <td>40.5000</td>\n",
       "      <td>0.635000</td>\n",
       "      <td>-1.815000</td>\n",
       "      <td>-0.500000</td>\n",
       "      <td>0.870000</td>\n",
       "      <td>0.83000</td>\n",
       "    </tr>\n",
       "    <tr>\n",
       "      <th>75%</th>\n",
       "      <td>60.2500</td>\n",
       "      <td>5.050000</td>\n",
       "      <td>3.417500</td>\n",
       "      <td>4.820000</td>\n",
       "      <td>5.062500</td>\n",
       "      <td>4.62250</td>\n",
       "    </tr>\n",
       "    <tr>\n",
       "      <th>max</th>\n",
       "      <td>80.0000</td>\n",
       "      <td>9.570000</td>\n",
       "      <td>9.610000</td>\n",
       "      <td>9.720000</td>\n",
       "      <td>9.890000</td>\n",
       "      <td>9.99000</td>\n",
       "    </tr>\n",
       "  </tbody>\n",
       "</table>\n",
       "</div>"
      ],
      "text/plain": [
       "         CarID      ManHI      ManBI       IntI      HVACi    Safety\n",
       "count  80.0000  80.000000  80.000000  77.000000  80.000000  80.00000\n",
       "mean   40.5000  -0.093500  -0.927750  -0.346623   0.119750   0.54375\n",
       "std    23.2379   5.802878   5.600224   5.806723   5.813306   5.79723\n",
       "min     1.0000  -9.930000  -9.940000  -9.990000  -9.820000  -9.80000\n",
       "25%    20.7500  -5.195000  -5.705000  -5.940000  -5.675000  -4.67750\n",
       "50%    40.5000   0.635000  -1.815000  -0.500000   0.870000   0.83000\n",
       "75%    60.2500   5.050000   3.417500   4.820000   5.062500   4.62250\n",
       "max    80.0000   9.570000   9.610000   9.720000   9.890000   9.99000"
      ]
     },
     "execution_count": 4,
     "metadata": {},
     "output_type": "execute_result"
    }
   ],
   "source": [
    "# for the train data\n",
    "crash_df.describe()"
   ]
  },
  {
   "cell_type": "code",
   "execution_count": 5,
   "metadata": {},
   "outputs": [
    {
     "data": {
      "text/html": [
       "<div>\n",
       "<style scoped>\n",
       "    .dataframe tbody tr th:only-of-type {\n",
       "        vertical-align: middle;\n",
       "    }\n",
       "\n",
       "    .dataframe tbody tr th {\n",
       "        vertical-align: top;\n",
       "    }\n",
       "\n",
       "    .dataframe thead th {\n",
       "        text-align: right;\n",
       "    }\n",
       "</style>\n",
       "<table border=\"1\" class=\"dataframe\">\n",
       "  <thead>\n",
       "    <tr style=\"text-align: right;\">\n",
       "      <th></th>\n",
       "      <th>CarID</th>\n",
       "      <th>ManHI</th>\n",
       "      <th>ManBI</th>\n",
       "      <th>IntI</th>\n",
       "      <th>HVACi</th>\n",
       "      <th>Safety</th>\n",
       "    </tr>\n",
       "  </thead>\n",
       "  <tbody>\n",
       "    <tr>\n",
       "      <th>count</th>\n",
       "      <td>20.00000</td>\n",
       "      <td>20.000000</td>\n",
       "      <td>20.00000</td>\n",
       "      <td>20.000000</td>\n",
       "      <td>20.000000</td>\n",
       "      <td>20.000000</td>\n",
       "    </tr>\n",
       "    <tr>\n",
       "      <th>mean</th>\n",
       "      <td>90.50000</td>\n",
       "      <td>0.047000</td>\n",
       "      <td>0.32800</td>\n",
       "      <td>0.524000</td>\n",
       "      <td>0.723500</td>\n",
       "      <td>0.191000</td>\n",
       "    </tr>\n",
       "    <tr>\n",
       "      <th>std</th>\n",
       "      <td>5.91608</td>\n",
       "      <td>6.253216</td>\n",
       "      <td>4.05164</td>\n",
       "      <td>4.953771</td>\n",
       "      <td>5.479129</td>\n",
       "      <td>6.154548</td>\n",
       "    </tr>\n",
       "    <tr>\n",
       "      <th>min</th>\n",
       "      <td>81.00000</td>\n",
       "      <td>-9.940000</td>\n",
       "      <td>-8.74000</td>\n",
       "      <td>-8.950000</td>\n",
       "      <td>-9.230000</td>\n",
       "      <td>-8.660000</td>\n",
       "    </tr>\n",
       "    <tr>\n",
       "      <th>25%</th>\n",
       "      <td>85.75000</td>\n",
       "      <td>-5.535000</td>\n",
       "      <td>-2.50250</td>\n",
       "      <td>-3.272500</td>\n",
       "      <td>-2.455000</td>\n",
       "      <td>-6.095000</td>\n",
       "    </tr>\n",
       "    <tr>\n",
       "      <th>50%</th>\n",
       "      <td>90.50000</td>\n",
       "      <td>0.740000</td>\n",
       "      <td>0.67000</td>\n",
       "      <td>1.200000</td>\n",
       "      <td>0.675000</td>\n",
       "      <td>-0.770000</td>\n",
       "    </tr>\n",
       "    <tr>\n",
       "      <th>75%</th>\n",
       "      <td>95.25000</td>\n",
       "      <td>5.110000</td>\n",
       "      <td>2.50000</td>\n",
       "      <td>3.907500</td>\n",
       "      <td>5.337500</td>\n",
       "      <td>4.992500</td>\n",
       "    </tr>\n",
       "    <tr>\n",
       "      <th>max</th>\n",
       "      <td>100.00000</td>\n",
       "      <td>9.090000</td>\n",
       "      <td>8.42000</td>\n",
       "      <td>8.870000</td>\n",
       "      <td>8.330000</td>\n",
       "      <td>9.620000</td>\n",
       "    </tr>\n",
       "  </tbody>\n",
       "</table>\n",
       "</div>"
      ],
      "text/plain": [
       "           CarID      ManHI     ManBI       IntI      HVACi     Safety\n",
       "count   20.00000  20.000000  20.00000  20.000000  20.000000  20.000000\n",
       "mean    90.50000   0.047000   0.32800   0.524000   0.723500   0.191000\n",
       "std      5.91608   6.253216   4.05164   4.953771   5.479129   6.154548\n",
       "min     81.00000  -9.940000  -8.74000  -8.950000  -9.230000  -8.660000\n",
       "25%     85.75000  -5.535000  -2.50250  -3.272500  -2.455000  -6.095000\n",
       "50%     90.50000   0.740000   0.67000   1.200000   0.675000  -0.770000\n",
       "75%     95.25000   5.110000   2.50000   3.907500   5.337500   4.992500\n",
       "max    100.00000   9.090000   8.42000   8.870000   8.330000   9.620000"
      ]
     },
     "execution_count": 5,
     "metadata": {},
     "output_type": "execute_result"
    }
   ],
   "source": [
    "crash_df_test.describe()"
   ]
  },
  {
   "cell_type": "code",
   "execution_count": 6,
   "metadata": {},
   "outputs": [
    {
     "data": {
      "text/plain": [
       "0.9175"
      ]
     },
     "execution_count": 6,
     "metadata": {},
     "output_type": "execute_result"
    }
   ],
   "source": [
    "third_quartile_diff = 3.417500 - 2.50000\n",
    "third_quartile_diff"
   ]
  },
  {
   "cell_type": "code",
   "execution_count": 7,
   "metadata": {},
   "outputs": [
    {
     "data": {
      "text/plain": [
       "array(['SUV', 'Hatchback'], dtype=object)"
      ]
     },
     "execution_count": 7,
     "metadata": {},
     "output_type": "execute_result"
    }
   ],
   "source": [
    "crash_df['CarType'].value_counts()\n",
    "pd.crosstab(crash_df['CarType'],columns = 'count',normalize=True)\n",
    "crash_df['CarType'].unique()"
   ]
  },
  {
   "cell_type": "code",
   "execution_count": 8,
   "metadata": {},
   "outputs": [
    {
     "data": {
      "text/plain": [
       "CarID      0\n",
       "ManHI      0\n",
       "ManBI      0\n",
       "IntI       3\n",
       "HVACi      0\n",
       "Safety     0\n",
       "CarType    0\n",
       "dtype: int64"
      ]
     },
     "execution_count": 8,
     "metadata": {},
     "output_type": "execute_result"
    }
   ],
   "source": [
    "crash_df.isna().sum()"
   ]
  },
  {
   "cell_type": "markdown",
   "metadata": {},
   "source": [
    "## FOR Q.17  TO Q. 20"
   ]
  },
  {
   "cell_type": "code",
   "execution_count": 9,
   "metadata": {},
   "outputs": [
    {
     "data": {
      "text/html": [
       "<div>\n",
       "<style scoped>\n",
       "    .dataframe tbody tr th:only-of-type {\n",
       "        vertical-align: middle;\n",
       "    }\n",
       "\n",
       "    .dataframe tbody tr th {\n",
       "        vertical-align: top;\n",
       "    }\n",
       "\n",
       "    .dataframe thead th {\n",
       "        text-align: right;\n",
       "    }\n",
       "</style>\n",
       "<table border=\"1\" class=\"dataframe\">\n",
       "  <thead>\n",
       "    <tr style=\"text-align: right;\">\n",
       "      <th>col_0</th>\n",
       "      <th>count</th>\n",
       "    </tr>\n",
       "    <tr>\n",
       "      <th>CarType</th>\n",
       "      <th></th>\n",
       "    </tr>\n",
       "  </thead>\n",
       "  <tbody>\n",
       "    <tr>\n",
       "      <th>Hatchback</th>\n",
       "      <td>10</td>\n",
       "    </tr>\n",
       "    <tr>\n",
       "      <th>SUV</th>\n",
       "      <td>10</td>\n",
       "    </tr>\n",
       "  </tbody>\n",
       "</table>\n",
       "</div>"
      ],
      "text/plain": [
       "col_0      count\n",
       "CarType         \n",
       "Hatchback     10\n",
       "SUV           10"
      ]
     },
     "execution_count": 9,
     "metadata": {},
     "output_type": "execute_result"
    }
   ],
   "source": [
    "# proportions of car types in train data\n",
    "pd.crosstab(crash_df_test['CarType'],columns = 'count',normalize=True)\n",
    "# crash_df_test['CarType'].value_counts()"
   ]
  },
  {
   "cell_type": "code",
   "execution_count": 10,
   "metadata": {},
   "outputs": [
    {
     "name": "stdout",
     "output_type": "stream",
     "text": [
      "(80, 7)\n",
      "(77, 6)\n",
      "(20, 6)\n"
     ]
    }
   ],
   "source": [
    "# dropping the missing values\n",
    "print(crash_df.shape)\n",
    "crash_df_train_copy = crash_df.dropna(axis=0) # we'll drop the rows\n",
    "\n",
    "crash_df_test = crash_df_test.dropna(axis=0)\n",
    "\n",
    "\n",
    "# dropping the carId feature\n",
    "crash_df_train_copy = crash_df_train_copy.drop(columns=['CarID'])\n",
    "crash_df_test = crash_df_test.drop(columns=['CarID'])\n",
    "print(crash_df_train_copy.shape)\n",
    "print(crash_df_test.shape)  # these are the dimensions of the data set we have extracted."
   ]
  },
  {
   "cell_type": "code",
   "execution_count": 11,
   "metadata": {},
   "outputs": [
    {
     "data": {
      "text/html": [
       "<div>\n",
       "<style scoped>\n",
       "    .dataframe tbody tr th:only-of-type {\n",
       "        vertical-align: middle;\n",
       "    }\n",
       "\n",
       "    .dataframe tbody tr th {\n",
       "        vertical-align: top;\n",
       "    }\n",
       "\n",
       "    .dataframe thead th {\n",
       "        text-align: right;\n",
       "    }\n",
       "</style>\n",
       "<table border=\"1\" class=\"dataframe\">\n",
       "  <thead>\n",
       "    <tr style=\"text-align: right;\">\n",
       "      <th></th>\n",
       "      <th>ManHI</th>\n",
       "      <th>ManBI</th>\n",
       "      <th>IntI</th>\n",
       "      <th>HVACi</th>\n",
       "      <th>Safety</th>\n",
       "    </tr>\n",
       "  </thead>\n",
       "  <tbody>\n",
       "    <tr>\n",
       "      <th>count</th>\n",
       "      <td>77.000000</td>\n",
       "      <td>77.000000</td>\n",
       "      <td>77.000000</td>\n",
       "      <td>77.000000</td>\n",
       "      <td>77.000000</td>\n",
       "    </tr>\n",
       "    <tr>\n",
       "      <th>mean</th>\n",
       "      <td>-0.203117</td>\n",
       "      <td>-0.914416</td>\n",
       "      <td>-0.346623</td>\n",
       "      <td>0.105714</td>\n",
       "      <td>0.573896</td>\n",
       "    </tr>\n",
       "    <tr>\n",
       "      <th>std</th>\n",
       "      <td>5.856577</td>\n",
       "      <td>5.657092</td>\n",
       "      <td>5.806723</td>\n",
       "      <td>5.824315</td>\n",
       "      <td>5.719930</td>\n",
       "    </tr>\n",
       "    <tr>\n",
       "      <th>min</th>\n",
       "      <td>-9.930000</td>\n",
       "      <td>-9.940000</td>\n",
       "      <td>-9.990000</td>\n",
       "      <td>-9.820000</td>\n",
       "      <td>-9.800000</td>\n",
       "    </tr>\n",
       "    <tr>\n",
       "      <th>25%</th>\n",
       "      <td>-5.270000</td>\n",
       "      <td>-5.690000</td>\n",
       "      <td>-5.940000</td>\n",
       "      <td>-5.590000</td>\n",
       "      <td>-4.570000</td>\n",
       "    </tr>\n",
       "    <tr>\n",
       "      <th>50%</th>\n",
       "      <td>0.630000</td>\n",
       "      <td>-1.870000</td>\n",
       "      <td>-0.500000</td>\n",
       "      <td>0.850000</td>\n",
       "      <td>0.870000</td>\n",
       "    </tr>\n",
       "    <tr>\n",
       "      <th>75%</th>\n",
       "      <td>5.020000</td>\n",
       "      <td>3.360000</td>\n",
       "      <td>4.820000</td>\n",
       "      <td>5.030000</td>\n",
       "      <td>4.550000</td>\n",
       "    </tr>\n",
       "    <tr>\n",
       "      <th>max</th>\n",
       "      <td>9.570000</td>\n",
       "      <td>9.610000</td>\n",
       "      <td>9.720000</td>\n",
       "      <td>9.890000</td>\n",
       "      <td>9.990000</td>\n",
       "    </tr>\n",
       "  </tbody>\n",
       "</table>\n",
       "</div>"
      ],
      "text/plain": [
       "           ManHI      ManBI       IntI      HVACi     Safety\n",
       "count  77.000000  77.000000  77.000000  77.000000  77.000000\n",
       "mean   -0.203117  -0.914416  -0.346623   0.105714   0.573896\n",
       "std     5.856577   5.657092   5.806723   5.824315   5.719930\n",
       "min    -9.930000  -9.940000  -9.990000  -9.820000  -9.800000\n",
       "25%    -5.270000  -5.690000  -5.940000  -5.590000  -4.570000\n",
       "50%     0.630000  -1.870000  -0.500000   0.850000   0.870000\n",
       "75%     5.020000   3.360000   4.820000   5.030000   4.550000\n",
       "max     9.570000   9.610000   9.720000   9.890000   9.990000"
      ]
     },
     "execution_count": 11,
     "metadata": {},
     "output_type": "execute_result"
    }
   ],
   "source": [
    "crash_df_train_copy.describe()"
   ]
  },
  {
   "cell_type": "code",
   "execution_count": 12,
   "metadata": {},
   "outputs": [
    {
     "data": {
      "text/html": [
       "<div>\n",
       "<style scoped>\n",
       "    .dataframe tbody tr th:only-of-type {\n",
       "        vertical-align: middle;\n",
       "    }\n",
       "\n",
       "    .dataframe tbody tr th {\n",
       "        vertical-align: top;\n",
       "    }\n",
       "\n",
       "    .dataframe thead th {\n",
       "        text-align: right;\n",
       "    }\n",
       "</style>\n",
       "<table border=\"1\" class=\"dataframe\">\n",
       "  <thead>\n",
       "    <tr style=\"text-align: right;\">\n",
       "      <th></th>\n",
       "      <th>ManHI</th>\n",
       "      <th>ManBI</th>\n",
       "      <th>IntI</th>\n",
       "      <th>HVACi</th>\n",
       "      <th>Safety</th>\n",
       "      <th>CarType</th>\n",
       "    </tr>\n",
       "  </thead>\n",
       "  <tbody>\n",
       "    <tr>\n",
       "      <th>0</th>\n",
       "      <td>1.94</td>\n",
       "      <td>2.21</td>\n",
       "      <td>3.38</td>\n",
       "      <td>1.78</td>\n",
       "      <td>-7.19</td>\n",
       "      <td>1</td>\n",
       "    </tr>\n",
       "    <tr>\n",
       "      <th>1</th>\n",
       "      <td>-0.02</td>\n",
       "      <td>-3.33</td>\n",
       "      <td>0.79</td>\n",
       "      <td>-6.63</td>\n",
       "      <td>7.99</td>\n",
       "      <td>0</td>\n",
       "    </tr>\n",
       "    <tr>\n",
       "      <th>2</th>\n",
       "      <td>-0.49</td>\n",
       "      <td>-4.48</td>\n",
       "      <td>5.00</td>\n",
       "      <td>8.33</td>\n",
       "      <td>-2.77</td>\n",
       "      <td>1</td>\n",
       "    </tr>\n",
       "    <tr>\n",
       "      <th>3</th>\n",
       "      <td>5.76</td>\n",
       "      <td>1.35</td>\n",
       "      <td>7.92</td>\n",
       "      <td>-0.43</td>\n",
       "      <td>4.29</td>\n",
       "      <td>1</td>\n",
       "    </tr>\n",
       "    <tr>\n",
       "      <th>4</th>\n",
       "      <td>2.51</td>\n",
       "      <td>-8.74</td>\n",
       "      <td>4.53</td>\n",
       "      <td>-1.91</td>\n",
       "      <td>3.95</td>\n",
       "      <td>1</td>\n",
       "    </tr>\n",
       "  </tbody>\n",
       "</table>\n",
       "</div>"
      ],
      "text/plain": [
       "   ManHI  ManBI  IntI  HVACi  Safety  CarType\n",
       "0   1.94   2.21  3.38   1.78   -7.19        1\n",
       "1  -0.02  -3.33  0.79  -6.63    7.99        0\n",
       "2  -0.49  -4.48  5.00   8.33   -2.77        1\n",
       "3   5.76   1.35  7.92  -0.43    4.29        1\n",
       "4   2.51  -8.74  4.53  -1.91    3.95        1"
      ]
     },
     "execution_count": 12,
     "metadata": {},
     "output_type": "execute_result"
    }
   ],
   "source": [
    "# now to replace categorical variables with integer values:\n",
    "crash_df_train_copy = crash_df_train_copy.replace({'Hatchback':1,'SUV':0})\n",
    "crash_df_train_copy.head()\n",
    "# replacing 1 for Hatchback and 0 for SUV\n",
    "\n",
    "# You have to perform the same action for both the data sets (test as well as training)\n",
    "crash_df_test = crash_df_test.replace({'Hatchback':1,'SUV':0}) # same for test data set\n",
    "crash_df_test.head()"
   ]
  },
  {
   "cell_type": "code",
   "execution_count": 13,
   "metadata": {},
   "outputs": [
    {
     "name": "stdout",
     "output_type": "stream",
     "text": [
      "['Safety', 'ManHI', 'IntI', 'HVACi', 'ManBI']\n"
     ]
    }
   ],
   "source": [
    "new_data = pd.get_dummies(crash_df_train_copy,drop_first=True)\n",
    "columns = list(new_data.columns)\n",
    "features = list(set(columns)-set(['CarType']))\n",
    "print(features)  # features -> for train data set (same as test data set)"
   ]
  },
  {
   "cell_type": "code",
   "execution_count": 14,
   "metadata": {},
   "outputs": [
    {
     "name": "stdout",
     "output_type": "stream",
     "text": [
      "(77, 5) (77,)\n"
     ]
    }
   ],
   "source": [
    "# creating x and y to train the model from train data set\n",
    "x=crash_df_train_copy[features].values\n",
    "y=crash_df_train_copy['CarType']\n",
    "print(x.shape,y.shape)"
   ]
  },
  {
   "cell_type": "code",
   "execution_count": 15,
   "metadata": {},
   "outputs": [
    {
     "name": "stdout",
     "output_type": "stream",
     "text": [
      "['Safety', 'ManHI', 'IntI', 'HVACi', 'ManBI']\n"
     ]
    }
   ],
   "source": [
    "data_test = pd.get_dummies(crash_df_test,drop_first=True)  # for test data set.\n",
    "col1 = list(data_test.columns)\n",
    "features_test = list(set(col1)-set(['CarType']))\n",
    "print(features_test)  # taking only features that are affecting the type of the car(same as train data set)"
   ]
  },
  {
   "cell_type": "code",
   "execution_count": 16,
   "metadata": {},
   "outputs": [
    {
     "name": "stdout",
     "output_type": "stream",
     "text": [
      "(20, 5) (20,)\n"
     ]
    }
   ],
   "source": [
    "# creating x_test and y_test for prediction purpose from test_data set\n",
    "x_test = crash_df_test[features]\n",
    "y_test = crash_df_test['CarType']\n",
    "print(x_test.shape,y_test.shape)"
   ]
  },
  {
   "cell_type": "code",
   "execution_count": 17,
   "metadata": {},
   "outputs": [],
   "source": [
    "from sklearn.neighbors import KNeighborsClassifier # importing the module\n",
    "knn = KNeighborsClassifier(n_neighbors=3)\n",
    "knn.fit(x,y)\n",
    "pred = knn.predict(x_test)  # creating object of the predict attribute"
   ]
  },
  {
   "cell_type": "code",
   "execution_count": 18,
   "metadata": {},
   "outputs": [
    {
     "name": "stdout",
     "output_type": "stream",
     "text": [
      "Accuracy=0.7\n"
     ]
    }
   ],
   "source": [
    "# finding the accuracy\n",
    "from sklearn.metrics import accuracy_score\n",
    "acc = accuracy_score(y_test,pred)\n",
    "print(f'Accuracy={acc}')  # so we got accuracy = 70%"
   ]
  },
  {
   "cell_type": "code",
   "execution_count": 22,
   "metadata": {},
   "outputs": [
    {
     "name": "stdout",
     "output_type": "stream",
     "text": [
      "Misclassified Samples from Model 1 is \n",
      "6\n"
     ]
    }
   ],
   "source": [
    "print(f'Misclassified Samples from Model 1 is \\n{(y_test!=pred).sum()}')  # so there are 6 misclassified\n",
    "# samples"
   ]
  },
  {
   "cell_type": "markdown",
   "metadata": {},
   "source": [
    "## NOW WE HAVE TO CREATE A KNeighborsClassifier Model with\n",
    "## n_nieghbors=2"
   ]
  },
  {
   "cell_type": "code",
   "execution_count": 20,
   "metadata": {},
   "outputs": [
    {
     "name": "stdout",
     "output_type": "stream",
     "text": [
      "accuracy of model_2 = 0.85\n",
      "accuracy of model_1 =0.7\n"
     ]
    }
   ],
   "source": [
    "# now we have to build the model 2 with 2 n_neighbors\n",
    "knn_model_2 = KNeighborsClassifier(n_neighbors=2)\n",
    "knn_model_2.fit(x,y)\n",
    "pred_2 = knn_model_2.predict(x_test) # prediction object for model 2\n",
    "\n",
    "# now have to find the accuracy score to compare them\n",
    "acc_model_2 = accuracy_score(y_test,pred_2)\n",
    "print(f'accuracy of model_2 = {acc_model_2}\\naccuracy of model_1 ={acc}')  # accuracy of model 2 is 85%"
   ]
  },
  {
   "cell_type": "markdown",
   "metadata": {},
   "source": [
    "## So the accuracy is higher n_neighbors = 2"
   ]
  },
  {
   "cell_type": "markdown",
   "metadata": {},
   "source": [
    "### Now we have to Create a LogisticRegression Model"
   ]
  },
  {
   "cell_type": "code",
   "execution_count": 21,
   "metadata": {},
   "outputs": [
    {
     "name": "stdout",
     "output_type": "stream",
     "text": [
      "Accuracy score of model 3 is 1.0\n"
     ]
    }
   ],
   "source": [
    "from sklearn.linear_model import LogisticRegression\n",
    "reg_log = LogisticRegression()\n",
    "reg_log.fit(x,y)\n",
    "\n",
    "# predicting using Logistic Regression\n",
    "pred_model_3 = reg_log.predict(x_test)\n",
    "\n",
    "# Now we have to find the accuracy score for Logistic Regression\n",
    "acc_log_reg = accuracy_score(y_test,pred_model_3)\n",
    "print(f'Accuracy score of model 3 is {acc_log_reg}') # so here the accuracy is 1.0"
   ]
  }
 ],
 "metadata": {
  "kernelspec": {
   "display_name": "Python 3",
   "language": "python",
   "name": "python3"
  },
  "language_info": {
   "codemirror_mode": {
    "name": "ipython",
    "version": 3
   },
   "file_extension": ".py",
   "mimetype": "text/x-python",
   "name": "python",
   "nbconvert_exporter": "python",
   "pygments_lexer": "ipython3",
   "version": "3.7.4"
  }
 },
 "nbformat": 4,
 "nbformat_minor": 2
}
